{
 "cells": [
  {
   "cell_type": "code",
   "execution_count": 5,
   "metadata": {},
   "outputs": [],
   "source": [
    "import pandas as pd\n",
    "import numpy as np\n",
    "import matplotlib.pyplot as plt\n",
    "import japanize_matplotlib\n",
    "import glob\n",
    "import MeCab"
   ]
  },
  {
   "cell_type": "code",
   "execution_count": 2,
   "metadata": {},
   "outputs": [],
   "source": [
    "path = \"moviedata2/*\"\n",
    "files = glob.glob(path)"
   ]
  },
  {
   "cell_type": "code",
   "execution_count": 9,
   "metadata": {},
   "outputs": [],
   "source": [
    "#tfidf値合計値出す\n",
    "#出現数上位10個の単語をリストで取得する関数\n",
    "def getmax_list(dataframe, id_list, topnum=10, getmin=False):\n",
    "    s = min(id_list)\n",
    "    e = max(id_list) + 1\n",
    "    sum_word = dataframe[s:e].sum(axis=0)\n",
    "    out = sum_word.nsmallest(topnum) if getmin else sum_word.nlargest(topnum)\n",
    "    word = out.index.tolist()\n",
    "    return word\n",
    "    #return sum_word_df"
   ]
  },
  {
   "cell_type": "code",
   "execution_count": 3,
   "metadata": {},
   "outputs": [],
   "source": [
    "def concat_df(main_df, sub_df):\n",
    "    df_list = [main_df, sub_df]\n",
    "    df_concat = pd.concat(df_list, ignore_index=True)\n",
    "    return df_concat"
   ]
  },
  {
   "cell_type": "code",
   "execution_count": 4,
   "metadata": {},
   "outputs": [],
   "source": [
    "import module as md\n",
    "def make_df(file_path):\n",
    "    #ファイルパスからデータフレーム\n",
    "    df = pd.read_json(file_path, orient='records', lines=True)\n",
    "    #コメント分割\n",
    "    df = md.sep_comments(df)\n",
    "    #カラム追加\n",
    "    df['id'] = file_path\n",
    "    df[\"content\"] = df[\"content\"].apply(md.preprocessor)\n",
    "    cd = md.CleaningData(df, 'content')\n",
    "    df = cd.cleaning()\n",
    "    df[\"content\"] = df[\"content\"].apply(md.wakati_m_2)\n",
    "    return df"
   ]
  },
  {
   "cell_type": "code",
   "execution_count": 5,
   "metadata": {},
   "outputs": [],
   "source": [
    "def join_df(file_list):\n",
    "    main_df=pd.DataFrame(columns=[\"content\", \"id\"])\n",
    "    sub_df=0\n",
    "    for l in file_list:\n",
    "        sub_df = make_df(l)\n",
    "        main_df = concat_df(main_df, sub_df)\n",
    "    return main_df"
   ]
  },
  {
   "cell_type": "code",
   "execution_count": 6,
   "metadata": {},
   "outputs": [],
   "source": [
    "df = join_df(files)"
   ]
  },
  {
   "cell_type": "code",
   "execution_count": 7,
   "metadata": {},
   "outputs": [],
   "source": [
    "#bow\n",
    "from sklearn.feature_extraction.text import CountVectorizer\n",
    "from sklearn.feature_extraction.text import TfidfTransformer\n",
    "count = CountVectorizer()\n",
    "bag = count.fit_transform(df[\"content\"]) #時間でコメント分割\n",
    "bow_df = pd.DataFrame(bag.toarray(), columns=count.get_feature_names())\n",
    "#tf-idf\n",
    "tfidf = TfidfTransformer(use_idf=True, norm=\"l2\", smooth_idf=True)\n",
    "#np.set_printoptions(precision=2)#小数点以下二桁\n",
    "word_tfidf = tfidf.fit_transform(bag.toarray())\n",
    "tfidf_df = pd.DataFrame(word_tfidf.toarray(), columns=count.get_feature_names())"
   ]
  },
  {
   "cell_type": "code",
   "execution_count": 10,
   "metadata": {
    "scrolled": true
   },
   "outputs": [
    {
     "name": "stderr",
     "output_type": "stream",
     "text": [
      "/usr/local/lib/python3.8/dist-packages/numpy/core/_asarray.py:83: VisibleDeprecationWarning: Creating an ndarray from ragged nested sequences (which is a list-or-tuple of lists-or-tuples-or ndarrays with different lengths or shapes) is deprecated. If you meant to do this, you must specify 'dtype=object' when creating the ndarray\n",
      "  return array(a, dtype, copy=False, order=order)\n"
     ]
    }
   ],
   "source": [
    "#各動画の特徴語20個抽出\n",
    "movie_df=pd.DataFrame(columns=[\"id\", \"content\"])\n",
    "for i in range(len(files)):\n",
    "    movie_Index = df[df['id']==files[i]].index.tolist()\n",
    "    word = getmax_list(tfidf_df, movie_Index, topnum=20)\n",
    "    #text = \" \".join(word)\n",
    "    movie_df.loc[i]=[files[i], word]"
   ]
  },
  {
   "cell_type": "code",
   "execution_count": 19,
   "metadata": {},
   "outputs": [
    {
     "data": {
      "text/html": [
       "<div>\n",
       "<style scoped>\n",
       "    .dataframe tbody tr th:only-of-type {\n",
       "        vertical-align: middle;\n",
       "    }\n",
       "\n",
       "    .dataframe tbody tr th {\n",
       "        vertical-align: top;\n",
       "    }\n",
       "\n",
       "    .dataframe thead th {\n",
       "        text-align: right;\n",
       "    }\n",
       "</style>\n",
       "<table border=\"1\" class=\"dataframe\">\n",
       "  <thead>\n",
       "    <tr style=\"text-align: right;\">\n",
       "      <th></th>\n",
       "      <th>id</th>\n",
       "      <th>content</th>\n",
       "    </tr>\n",
       "  </thead>\n",
       "  <tbody>\n",
       "    <tr>\n",
       "      <th>0</th>\n",
       "      <td>moviedata2/sm17961470.jsonl</td>\n",
       "      <td>きくお 幸福 鬱くしい 好き 地獄 天国 綺麗 歌詞 ミク ダブステ 中毒 サビ 世界観 ダ...</td>\n",
       "    </tr>\n",
       "    <tr>\n",
       "      <th>1</th>\n",
       "      <td>moviedata2/sm12419220.jsonl</td>\n",
       "      <td>シンジ もこう ポケモン 厳選 先生 廃人 ゾロア ポカブ つり マジレス 孵化 うそなき ...</td>\n",
       "    </tr>\n",
       "    <tr>\n",
       "      <th>2</th>\n",
       "      <td>moviedata2/sm5430176.jsonl</td>\n",
       "      <td>アリス レン 不思議 番目 おk リン ミク カイト 真っ赤 一時停止 メイコ 薔薇 kai...</td>\n",
       "    </tr>\n",
       "    <tr>\n",
       "      <th>3</th>\n",
       "      <td>moviedata2/so15281450.jsonl</td>\n",
       "      <td>アイマス ナンバーワン うたプリ 美希 ここ 周年 公式 op akb ラブライブ 職人 み...</td>\n",
       "    </tr>\n",
       "    <tr>\n",
       "      <th>4</th>\n",
       "      <td>moviedata2/sm2069100.jsonl</td>\n",
       "      <td>勉強 テスト 明日 集中 休憩 数学 レポート 時間 今日 みんな 英語 あと 課題 徹夜 ...</td>\n",
       "    </tr>\n",
       "    <tr>\n",
       "      <th>...</th>\n",
       "      <td>...</td>\n",
       "      <td>...</td>\n",
       "    </tr>\n",
       "    <tr>\n",
       "      <th>495</th>\n",
       "      <td>moviedata2/sm5408420.jsonl</td>\n",
       "      <td>ルル ルルーシュ 太平洋 ひで ギアス ローゼン 触手 スザク みのりん シスター おまw ...</td>\n",
       "    </tr>\n",
       "    <tr>\n",
       "      <th>496</th>\n",
       "      <td>moviedata2/sm10116060.jsonl</td>\n",
       "      <td>美琴 黒子 俺の嫁 職人 木山 初春 レールガン 禁書 上条さん そげぶ 原木 ゥゥン りっ...</td>\n",
       "    </tr>\n",
       "    <tr>\n",
       "      <th>497</th>\n",
       "      <td>moviedata2/sm20715461.jsonl</td>\n",
       "      <td>サシャ 巨人 エレン ベルトルト ミーナ フラグ 駆逐 ネタバレ 駆逐系男子 画伯 トーマス...</td>\n",
       "    </tr>\n",
       "    <tr>\n",
       "      <th>498</th>\n",
       "      <td>moviedata2/sm3120540.jsonl</td>\n",
       "      <td>一番 シャーリー ユフィ ルル 解読不能 モザイクカケラ ルルーシュ ギアス ピカレスク c...</td>\n",
       "    </tr>\n",
       "    <tr>\n",
       "      <th>499</th>\n",
       "      <td>moviedata2/sm8491290.jsonl</td>\n",
       "      <td>you th the er he is ing to nt 作業 ボサノバ on 原曲 ul...</td>\n",
       "    </tr>\n",
       "  </tbody>\n",
       "</table>\n",
       "<p>500 rows × 2 columns</p>\n",
       "</div>"
      ],
      "text/plain": [
       "                              id  \\\n",
       "0    moviedata2/sm17961470.jsonl   \n",
       "1    moviedata2/sm12419220.jsonl   \n",
       "2     moviedata2/sm5430176.jsonl   \n",
       "3    moviedata2/so15281450.jsonl   \n",
       "4     moviedata2/sm2069100.jsonl   \n",
       "..                           ...   \n",
       "495   moviedata2/sm5408420.jsonl   \n",
       "496  moviedata2/sm10116060.jsonl   \n",
       "497  moviedata2/sm20715461.jsonl   \n",
       "498   moviedata2/sm3120540.jsonl   \n",
       "499   moviedata2/sm8491290.jsonl   \n",
       "\n",
       "                                               content  \n",
       "0    きくお 幸福 鬱くしい 好き 地獄 天国 綺麗 歌詞 ミク ダブステ 中毒 サビ 世界観 ダ...  \n",
       "1    シンジ もこう ポケモン 厳選 先生 廃人 ゾロア ポカブ つり マジレス 孵化 うそなき ...  \n",
       "2    アリス レン 不思議 番目 おk リン ミク カイト 真っ赤 一時停止 メイコ 薔薇 kai...  \n",
       "3    アイマス ナンバーワン うたプリ 美希 ここ 周年 公式 op akb ラブライブ 職人 み...  \n",
       "4    勉強 テスト 明日 集中 休憩 数学 レポート 時間 今日 みんな 英語 あと 課題 徹夜 ...  \n",
       "..                                                 ...  \n",
       "495  ルル ルルーシュ 太平洋 ひで ギアス ローゼン 触手 スザク みのりん シスター おまw ...  \n",
       "496  美琴 黒子 俺の嫁 職人 木山 初春 レールガン 禁書 上条さん そげぶ 原木 ゥゥン りっ...  \n",
       "497  サシャ 巨人 エレン ベルトルト ミーナ フラグ 駆逐 ネタバレ 駆逐系男子 画伯 トーマス...  \n",
       "498  一番 シャーリー ユフィ ルル 解読不能 モザイクカケラ ルルーシュ ギアス ピカレスク c...  \n",
       "499  you th the er he is ing to nt 作業 ボサノバ on 原曲 ul...  \n",
       "\n",
       "[500 rows x 2 columns]"
      ]
     },
     "execution_count": 19,
     "metadata": {},
     "output_type": "execute_result"
    }
   ],
   "source": [
    "#df保存\n",
    "#リストを文字列に変換\n",
    "for i in range(len(movie_df)):\n",
    "    movie_df[\"content\"].iloc[i] = \" \".join(movie_df[\"content\"].iloc[i])\n",
    "movie_df.to_csv(\"movie3_df_list.csv\")\n",
    "movie_df"
   ]
  }
 ],
 "metadata": {
  "kernelspec": {
   "display_name": "Python 3 (ipykernel)",
   "language": "python",
   "name": "python3"
  },
  "language_info": {
   "codemirror_mode": {
    "name": "ipython",
    "version": 3
   },
   "file_extension": ".py",
   "mimetype": "text/x-python",
   "name": "python",
   "nbconvert_exporter": "python",
   "pygments_lexer": "ipython3",
   "version": "3.9.6"
  }
 },
 "nbformat": 4,
 "nbformat_minor": 4
}
